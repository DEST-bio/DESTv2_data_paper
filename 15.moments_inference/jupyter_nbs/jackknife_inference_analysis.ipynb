{
 "cells": [
  {
   "cell_type": "code",
   "execution_count": 3,
   "metadata": {},
   "outputs": [],
   "source": [
    "# Imports\n",
    "import pandas as pd\n",
    "import numpy as np\n",
    "import matplotlib.pyplot as plt\n",
    "import seaborn as sns\n",
    "import scipy.stats"
   ]
  },
  {
   "cell_type": "code",
   "execution_count": 4,
   "metadata": {},
   "outputs": [],
   "source": [
    "# Setup; data loading and cleaning\n",
    "data_file = \"/home/davidb/DEST2_contrib/output/moments_output_jackknife.tsv\"\n",
    "max_num_params = 8\n",
    "est_cols = ['est' + str(i) for i in range(max_num_params)]\n",
    "\n",
    "# Read in data\n",
    "df = pd.read_csv(data_file, sep='\\t', header=None,\n",
    "                     names=['model', 'pop_of_interest'] + \\\n",
    "                           ['init' + str(i) for i in range(max_num_params)] + \\\n",
    "                           est_cols + \\\n",
    "                           ['upper_bound' + str(i) for i in range(max_num_params)] + \\\n",
    "                           ['log_likelihood', 'collapsed_pop_ll', 'func_calls', 'grad_calls',\n",
    "                            'maxiter', 'hour_limit',\n",
    "                            'jackknife_id', 'region'])\n",
    "\n",
    "# Group by model, as applied to each jackknife replicate of each region\n",
    "df.groupby(['region', 'model', 'pop_of_interest', 'jackknife_id'],\n",
    "           dropna=False).mean()\n",
    "\n",
    "# Get the best fit for each jackknife replicate\n",
    "df = df.loc[df.groupby(['region', 'model', 'pop_of_interest', 'jackknife_id'],\n",
    "                       dropna=False)\\\n",
    "            ['log_likelihood'].idxmax()]\n",
    "df = df[['region', 'model', 'pop_of_interest', 'jackknife_id', 'log_likelihood', 'collapsed_pop_ll'] + \\\n",
    "        est_cols]\n",
    "\n",
    "def calculate_ci(x):\n",
    "    return (list(x.nsmallest(2))[0], \n",
    "            list(x.nlargest(2))[0])\n",
    "\n",
    "\n",
    "# df = df.reset_index()\n",
    "# df.rename(columns={'level_3': 'ci_bound'}, inplace=True)\n",
    "df = df.replace({'pop_of_interest': {0.0: '0', \n",
    "                                     1.0 : '1',\n",
    "                                     2.0 : '2',\n",
    "                                     3.0 : '3',\n",
    "                                     np.nan: 'NA'},\n",
    "                 'ci_bound': {0: 'lower', 1: 'upper'}})\n",
    "\n",
    "# Merge model and pop of interest, which do not need to be distinguished now that\n",
    "# we're only considering models within each region, and not calling general model\n",
    "# functions.\n",
    "pop_of_interest_suffices = ['_' + poi if poi != 'NA' else '' for poi in df['pop_of_interest']]\n",
    "df['model'] = df['model'] + pop_of_interest_suffices\n",
    "df.drop(columns=['pop_of_interest'], inplace=True)"
   ]
  },
  {
   "cell_type": "code",
   "execution_count": 5,
   "metadata": {},
   "outputs": [
    {
     "data": {
      "text/plain": [
       "8.738345441526625e-28"
      ]
     },
     "execution_count": 5,
     "metadata": {},
     "output_type": "execute_result"
    }
   ],
   "source": [
    "# Model has a significant effect on collapsed-population log-likelihood\n",
    "Europe_models = df[df.region == \"Europe\"].model.unique()\n",
    "scipy.stats.kruskal(*[df[(df.region == \"Europe\") & (df.model == model)].collapsed_pop_ll\n",
    "                      for model in Europe_models]).pvalue"
   ]
  },
  {
   "cell_type": "code",
   "execution_count": 6,
   "metadata": {},
   "outputs": [
    {
     "data": {
      "text/plain": [
       "[('admixture_0', -4.420659018597776),\n",
       " ('admixture_1', -4.4199019251863),\n",
       " ('admixture_2', -4.422253117397938),\n",
       " ('split', -4.406278823502346),\n",
       " ('twosplits_0', -4.4201607037639175),\n",
       " ('twosplits_1', -4.420270875329244),\n",
       " ('twosplits_2', -4.419368979506466)]"
      ]
     },
     "execution_count": 6,
     "metadata": {},
     "output_type": "execute_result"
    }
   ],
   "source": [
    "# The split model has the greatest average collapsed-population log-likelihood for\n",
    "# European models.\n",
    "[(model, df[(df.region == \"Europe\") & (df.model == model)].collapsed_pop_ll.mean())\n",
    " for model in Europe_models]"
   ]
  },
  {
   "cell_type": "code",
   "execution_count": 7,
   "metadata": {},
   "outputs": [
    {
     "name": "stdout",
     "output_type": "stream",
     "text": [
      "admixture_0 9.094947017729282e-13\n",
      "admixture_1 9.094947017729282e-13\n",
      "admixture_2 9.094947017729282e-13\n",
      "twosplits_0 9.094947017729282e-13\n",
      "twosplits_1 9.094947017729282e-13\n",
      "twosplits_2 9.094947017729282e-13\n"
     ]
    }
   ],
   "source": [
    "# The split model gives significantly greater collapsed-population log-likelihood\n",
    "# than all each other models, indicating that the suture zone does not exist.\n",
    "for model in Europe_models:\n",
    "    if model == \"split\":\n",
    "        continue\n",
    "\n",
    "    p = scipy.stats.wilcoxon(df[(df.region == \"Europe\") & (df.model == \"split\")].collapsed_pop_ll,\n",
    "                             df[(df.region == \"Europe\") & (df.model == model)].collapsed_pop_ll,\n",
    "                             alternative='greater').pvalue\n",
    "    print(model, p)"
   ]
  },
  {
   "cell_type": "code",
   "execution_count": 8,
   "metadata": {},
   "outputs": [
    {
     "data": {
      "text/plain": [
       "7.025937520666048e-07"
      ]
     },
     "execution_count": 8,
     "metadata": {},
     "output_type": "execute_result"
    }
   ],
   "source": [
    "# The two_epoch model gives significantly greater collapsed-population log-likelihood\n",
    "# than the split model in the mainland samples, indicating that non-Caribbean American\n",
    "# samples all fall into one cluster.\n",
    "scipy.stats.wilcoxon(df[(df.region == \"mainland\") & (df.model == \"two_epoch\")].collapsed_pop_ll,\n",
    "                        df[(df.region == \"mainland\") & (df.model == \"split\")].collapsed_pop_ll,\n",
    "                        alternative='greater').pvalue"
   ]
  },
  {
   "cell_type": "code",
   "execution_count": 9,
   "metadata": {},
   "outputs": [
    {
     "data": {
      "text/plain": [
       "6.897607818245888e-09"
      ]
     },
     "execution_count": 9,
     "metadata": {},
     "output_type": "execute_result"
    }
   ],
   "source": [
    "# The two_epoch model gives significantly greater collapsed-population log-likelihood\n",
    "# than the split model in the Americas, indicating that the Caribbean cluster is \n",
    "# not valid.\n",
    "scipy.stats.wilcoxon(df[(df.region == \"Americas\") & (df.model == \"two_epoch\")].collapsed_pop_ll,\n",
    "                        df[(df.region == \"Americas\") & (df.model == \"split\")].collapsed_pop_ll,\n",
    "                        alternative='greater').pvalue"
   ]
  },
  {
   "cell_type": "code",
   "execution_count": 10,
   "metadata": {},
   "outputs": [
    {
     "data": {
      "text/plain": [
       "2.787106945482969e-31"
      ]
     },
     "execution_count": 10,
     "metadata": {},
     "output_type": "execute_result"
    }
   ],
   "source": [
    "# Model has a significant effect on collapsed-population log-likelihood for Transatlantic\n",
    "# models.\n",
    "Transatlantic_models = df[df.region == \"Transatlantic\"].model.unique()\n",
    "scipy.stats.kruskal(*[df[(df.region == \"Transatlantic\") & (df.model == model)].collapsed_pop_ll\n",
    "                      for model in Transatlantic_models]).pvalue"
   ]
  },
  {
   "cell_type": "code",
   "execution_count": 11,
   "metadata": {},
   "outputs": [
    {
     "data": {
      "text/plain": [
       "[('admixture_0', -6.390618788793853),\n",
       " ('admixture_1', -6.2558477369473255),\n",
       " ('admixture_2', -6.059614888268547),\n",
       " ('admixture_3', -6.338153631689331)]"
      ]
     },
     "execution_count": 11,
     "metadata": {},
     "output_type": "execute_result"
    }
   ],
   "source": [
    "# The admixture_2 model, i.e. Americas as an admixture of Eastern Europe and Zambia,\n",
    "# has the greatest average collapsed-population log-likelihood for the Transatlantic\n",
    "# region.\n",
    "[(model, df[(df.region == \"Transatlantic\") & (df.model == model)].log_likelihood.mean())\n",
    " for model in Transatlantic_models]"
   ]
  },
  {
   "cell_type": "code",
   "execution_count": 12,
   "metadata": {},
   "outputs": [
    {
     "name": "stdout",
     "output_type": "stream",
     "text": [
      "admixture_0 9.094947017729282e-13\n",
      "admixture_1 9.094947017729282e-13\n",
      "admixture_3 9.094947017729282e-13\n"
     ]
    }
   ],
   "source": [
    "# The admixture_2 model gives significantly greater collapsed-population log-likelihood\n",
    "# than all each other model, indicating that American flies are better described\n",
    "# as an admixture of Zambia and Eastern Europe than as any other combination of\n",
    "# Western or Eastern Europe and Guinea or Zambia.\n",
    "putative_best_model = \"admixture_2\"\n",
    "for model in Transatlantic_models:\n",
    "    if model == putative_best_model:\n",
    "        continue\n",
    "\n",
    "    p = scipy.stats.wilcoxon(df[(df.region == \"Transatlantic\") & (df.model == putative_best_model)].collapsed_pop_ll,\n",
    "                             df[(df.region == \"Transatlantic\") & (df.model == model)].collapsed_pop_ll,\n",
    "                             alternative='greater').pvalue\n",
    "    print(model, p)"
   ]
  },
  {
   "cell_type": "code",
   "execution_count": 30,
   "metadata": {},
   "outputs": [
    {
     "name": "stdout",
     "output_type": "stream",
     "text": [
      "95% CIs for parameter estimates for split model of Europe:\n",
      "L\t[-4.40965402 -4.40345367]\n",
      "nu_EUW\t[2.82002992 2.94922152]\n",
      "nu_EUE\t[0.58929685 0.64438409]\n",
      "T_split\t[0.03808484 0.04016409]\n",
      "m\t[16.6489238  18.02249604]\n"
     ]
    }
   ],
   "source": [
    "print(\"95% CIs for parameter estimates for split model of Europe:\")\n",
    "print(f\"L\\t{np.array(df[(df.region == 'Europe') & (df.model == 'split')]['collapsed_pop_ll'].quantile([0.025, 0.975]))}\")\n",
    "for i, param_name in enumerate(['nu_EUW', 'nu_EUE', 'T_split', 'm']):\n",
    "    ci = np.array(df[(df.region == \"Europe\") & (df.model == \"split\")]['est' + str(i)].quantile([0.025, 0.975]))\n",
    "    print(f\"{param_name}\\t{ci}\")"
   ]
  },
  {
   "cell_type": "code",
   "execution_count": 29,
   "metadata": {},
   "outputs": [
    {
     "name": "stdout",
     "output_type": "stream",
     "text": [
      "95% CIs for parameter estimates for two_epoch model of mainland Americas:\n",
      "L\t[-2.61207082 -2.60715977]\n",
      "nu\t[1.85794596 2.10597247]\n",
      "T\t[0.02297162 0.02874046]\n"
     ]
    }
   ],
   "source": [
    "print(\"95% CIs for parameter estimates for two_epoch model of mainland Americas:\")\n",
    "print(f\"L\\t{np.array(df[(df.region == 'Americas') & (df.model == 'two_epoch')]['collapsed_pop_ll'].quantile([0.025, 0.975]))}\")\n",
    "for i, param_name in enumerate(['nu', 'T']):\n",
    "    ci = np.array(df[(df.region == \"mainland\") & (df.model == \"two_epoch\")]['est' + str(i)].quantile([0.025, 0.975]))\n",
    "    print(f\"{param_name}\\t{ci}\")"
   ]
  },
  {
   "cell_type": "code",
   "execution_count": 28,
   "metadata": {},
   "outputs": [
    {
     "name": "stdout",
     "output_type": "stream",
     "text": [
      "95% CIs for parameter estimates for two_epoch model of the Americas:\n",
      "L\t[-2.61207082 -2.60715977]\n",
      "nu\t[1.58762755 1.8860231 ]\n",
      "T\t[0.01854634 0.03073693]\n"
     ]
    }
   ],
   "source": [
    "print(\"95% CIs for parameter estimates for two_epoch model of the Americas:\")\n",
    "print(f\"L\\t{np.array(df[(df.region == 'Americas') & (df.model == 'two_epoch')]['collapsed_pop_ll'].quantile([0.025, 0.975]))}\")\n",
    "for i, param_name in enumerate(['nu', 'T']):\n",
    "    ci = np.array(df[(df.region == \"Americas\") & (df.model == \"two_epoch\")]['est' + str(i)].quantile([0.025, 0.975]))\n",
    "    print(f\"{param_name}\\t{ci}\")"
   ]
  },
  {
   "cell_type": "code",
   "execution_count": 27,
   "metadata": {},
   "outputs": [
    {
     "name": "stdout",
     "output_type": "stream",
     "text": [
      "95% CIs for parameter estimates for admixture model of the Americas as admixture of EUE and Zambia:\n",
      "L\t[-6.07480969 -6.04260235]\n",
      "nu_Afr\t[0.36379114 0.39992383]\n",
      "nu_EUE\t[0.69469272 0.74367556]\n",
      "nu_Am\t[0.79505027 0.96947208]\n",
      "T_split\t[0.15644274 0.83881196]\n",
      "T_admix\t[0.01856334 0.02118287]\n",
      "m2\t[1.00367891e-03 2.15084793e+00]\n",
      "m3\t[12.32206064 16.13708399]\n",
      "p_admix\t[0.79433422 0.82854144]\n"
     ]
    }
   ],
   "source": [
    "# p_admix is the proportion of genetic material from the African population in the\n",
    "# admixture event.\n",
    "print(\"95% CIs for parameter estimates for admixture model of the Americas as admixture of EUE and Zambia:\")\n",
    "print(f\"L\\t{np.array(df[(df.region == 'Transatlantic') & (df.model == 'admixture_2')]['collapsed_pop_ll'].quantile([0.025, 0.975]))}\")\n",
    "for i, param_name in enumerate(['nu_Afr', 'nu_EUE', 'nu_Am', 'T_split', 'T_admix', 'm2', 'm3', 'p_admix']):\n",
    "    ci = np.array(df[(df.region == \"Transatlantic\") & (df.model == \"admixture_2\")]['est' + str(i)].quantile([0.025, 0.975]))\n",
    "    print(f\"{param_name}\\t{ci}\")"
   ]
  },
  {
   "cell_type": "code",
   "execution_count": 17,
   "metadata": {},
   "outputs": [
    {
     "name": "stdout",
     "output_type": "stream",
     "text": [
      "95% CIs for parameter estimates for admixture model of the Americas as admixture of EUE and Zambia:\n",
      "nu_Afr\t[0.43066318 0.59932718]\n",
      "nu_EUE\t[0.04167518 0.05189745]\n",
      "nu_Am\t[0.19005981 0.24358627]\n",
      "T_split\t[0.01132967 0.01591284]\n",
      "T_admix\t[0.00863678 0.01150967]\n",
      "m2\t[0.55578428 1.25251693]\n",
      "m3\t[0.00317675 0.00981702]\n",
      "p_admix\t[0.99653607 1.        ]\n"
     ]
    }
   ],
   "source": [
    "# p_admix is the proportion of genetic material from the African population in the\n",
    "# admixture event.\n",
    "print(\"95% CIs for parameter estimates for admixture model of the Americas as admixture of EUE and Zambia:\")\n",
    "for i, param_name in enumerate(['nu_Afr', 'nu_EUE', 'nu_Am', 'T_split', 'T_admix', 'm2', 'm3', 'p_admix']):\n",
    "    ci = np.array(df[(df.region == \"Transatlantic\") & (df.model == \"admixture_0\")]['est' + str(i)].quantile([0.025, 0.975]))\n",
    "    print(f\"{param_name}\\t{ci}\")"
   ]
  },
  {
   "cell_type": "code",
   "execution_count": 18,
   "metadata": {},
   "outputs": [
    {
     "name": "stdout",
     "output_type": "stream",
     "text": [
      "95% CIs for parameter estimates for admixture model of the Americas as admixture of EUE and Zambia:\n",
      "nu_Afr\t[0.57321084 0.63481171]\n",
      "nu_EUE\t[0.12794751 0.13878806]\n",
      "nu_Am\t[1.47343964 1.73726997]\n",
      "T_split\t[0.06052633 0.07125577]\n",
      "T_admix\t[0.01532069 0.01751347]\n",
      "m2\t[0.77203551 1.27623644]\n",
      "m3\t[0.00100082 0.00117678]\n",
      "p_admix\t[0.94670781 0.97004319]\n"
     ]
    }
   ],
   "source": [
    "# p_admix is the proportion of genetic material from the African population in the\n",
    "# admixture event.\n",
    "print(\"95% CIs for parameter estimates for admixture model of the Americas as admixture of EUE and Zambia:\")\n",
    "for i, param_name in enumerate(['nu_Afr', 'nu_EUE', 'nu_Am', 'T_split', 'T_admix', 'm2', 'm3', 'p_admix']):\n",
    "    ci = np.array(df[(df.region == \"Transatlantic\") & (df.model == \"admixture_1\")]['est' + str(i)].quantile([0.025, 0.975]))\n",
    "    print(f\"{param_name}\\t{ci}\")"
   ]
  },
  {
   "cell_type": "code",
   "execution_count": 19,
   "metadata": {},
   "outputs": [
    {
     "name": "stdout",
     "output_type": "stream",
     "text": [
      "95% CIs for parameter estimates for admixture model of the Americas as admixture of EUE and Zambia:\n",
      "nu_Afr\t[0.29386429 0.98843653]\n",
      "nu_EUE\t[0.21378736 2.33519854]\n",
      "nu_Am\t[0.24539659 1.11861096]\n",
      "T_split\t[0.03909547 3.00242119]\n",
      "T_admix\t[0.00155167 0.04130002]\n",
      "m2\t[0.65332892 5.70024124]\n",
      "m3\t[0.0087563  0.15370237]\n",
      "p_admix\t[0.01659665 0.44598889]\n"
     ]
    }
   ],
   "source": [
    "# p_admix is the proportion of genetic material from the African population in the\n",
    "# admixture event.\n",
    "print(\"95% CIs for parameter estimates for admixture model of the Americas as admixture of EUE and Zambia:\")\n",
    "for i, param_name in enumerate(['nu_Afr', 'nu_EUE', 'nu_Am', 'T_split', 'T_admix', 'm2', 'm3', 'p_admix']):\n",
    "    ci = np.array(df[(df.region == \"Transatlantic\") & (df.model == \"admixture_3\")]['est' + str(i)].quantile([0.025, 0.975]))\n",
    "    print(f\"{param_name}\\t{ci}\")"
   ]
  }
 ],
 "metadata": {
  "kernelspec": {
   "display_name": "di_env",
   "language": "python",
   "name": "python3"
  },
  "language_info": {
   "codemirror_mode": {
    "name": "ipython",
    "version": 3
   },
   "file_extension": ".py",
   "mimetype": "text/x-python",
   "name": "python",
   "nbconvert_exporter": "python",
   "pygments_lexer": "ipython3",
   "version": "3.10.13"
  }
 },
 "nbformat": 4,
 "nbformat_minor": 2
}
