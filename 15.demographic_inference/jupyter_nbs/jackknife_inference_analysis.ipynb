{
 "cells": [
  {
   "cell_type": "code",
   "execution_count": 1,
   "metadata": {},
   "outputs": [],
   "source": [
    "# Imports\n",
    "import pandas as pd\n",
    "import numpy as np\n",
    "import matplotlib.pyplot as plt\n",
    "import seaborn as sns\n",
    "import scipy.stats"
   ]
  },
  {
   "cell_type": "code",
   "execution_count": 4,
   "metadata": {},
   "outputs": [],
   "source": [
    "# Setup; data loading and cleaning\n",
    "data_file = \"/home/davidb/DESTv2_data_paper/15.demographic_inference/output/moments_output_jackknife.tsv\"\n",
    "max_num_params = 8\n",
    "est_cols = ['est' + str(i) for i in range(max_num_params)]\n",
    "\n",
    "# Read in data\n",
    "df = pd.read_csv(data_file, sep='\\t', header=None,\n",
    "                     names=['model', 'pop_of_interest'] + \\\n",
    "                           ['init' + str(i) for i in range(max_num_params)] + \\\n",
    "                           est_cols + \\\n",
    "                           ['upper_bound' + str(i) for i in range(max_num_params)] + \\\n",
    "                           ['log_likelihood', 'collapsed_pop_ll', 'func_calls', 'grad_calls',\n",
    "                            'maxiter', 'hour_limit',\n",
    "                            'jackknife_id', 'region'])\n",
    "\n",
    "# Group by model, as applied to each jackknife replicate of each region\n",
    "df.groupby(['region', 'model', 'pop_of_interest', 'jackknife_id'],\n",
    "           dropna=False).mean()\n",
    "\n",
    "# Get the best fit for each jackknife replicate\n",
    "df = df.loc[df.groupby(['region', 'model', 'pop_of_interest', 'jackknife_id'],\n",
    "                       dropna=False)\\\n",
    "            ['log_likelihood'].idxmax()]\n",
    "df = df[['region', 'model', 'pop_of_interest', 'jackknife_id', 'log_likelihood', 'collapsed_pop_ll'] + \\\n",
    "        est_cols]\n",
    "\n",
    "def calculate_ci(x):\n",
    "    return (list(x.nsmallest(2))[0], \n",
    "            list(x.nlargest(2))[0])\n",
    "\n",
    "\n",
    "# df = df.reset_index()\n",
    "# df.rename(columns={'level_3': 'ci_bound'}, inplace=True)\n",
    "df = df.replace({'pop_of_interest': {0.0: '0', \n",
    "                                     1.0 : '1',\n",
    "                                     2.0 : '2',\n",
    "                                     3.0 : '3',\n",
    "                                     np.nan: 'NA'},\n",
    "                 'ci_bound': {0: 'lower', 1: 'upper'}})\n",
    "\n",
    "# Merge model and pop of interest, which do not need to be distinguished now that\n",
    "# we're only considering models within each region, and not calling general model\n",
    "# functions.\n",
    "pop_of_interest_suffices = ['_' + poi if poi != 'NA' else '' for poi in df['pop_of_interest']]\n",
    "df['model'] = df['model'] + pop_of_interest_suffices\n",
    "df.drop(columns=['pop_of_interest'], inplace=True)"
   ]
  },
  {
   "cell_type": "code",
   "execution_count": 5,
   "metadata": {},
   "outputs": [
    {
     "data": {
      "text/plain": [
       "np.float64(1.1659734090792368e-41)"
      ]
     },
     "execution_count": 5,
     "metadata": {},
     "output_type": "execute_result"
    }
   ],
   "source": [
    "# Model has a significant effect on collapsed-population log-likelihood\n",
    "Europe_models = df[df.region == \"Europe\"].model.unique()\n",
    "scipy.stats.kruskal(*[df[(df.region == \"Europe\") & (df.model == model)].collapsed_pop_ll\n",
    "                      for model in Europe_models]).pvalue"
   ]
  },
  {
   "cell_type": "code",
   "execution_count": 7,
   "metadata": {},
   "outputs": [
    {
     "data": {
      "text/plain": [
       "[('admixture_0', np.float64(-4.420659018597776)),\n",
       " ('admixture_1', np.float64(-4.4199019251863)),\n",
       " ('admixture_2', np.float64(-4.422253117397938)),\n",
       " ('split', np.float64(-4.406278823502346)),\n",
       " ('split_asymmig', np.float64(-4.405005749666792)),\n",
       " ('twosplits_0', np.float64(-4.4201607037639175)),\n",
       " ('twosplits_1', np.float64(-4.420270875329244)),\n",
       " ('twosplits_2', np.float64(-4.419368979506466))]"
      ]
     },
     "execution_count": 7,
     "metadata": {},
     "output_type": "execute_result"
    }
   ],
   "source": [
    "# The split model has the greatest average collapsed-population log-likelihood for\n",
    "# European models.\n",
    "[(model, df[(df.region == \"Europe\") & (df.model == model)].collapsed_pop_ll.mean())\n",
    " for model in Europe_models]"
   ]
  },
  {
   "cell_type": "code",
   "execution_count": 10,
   "metadata": {},
   "outputs": [
    {
     "name": "stdout",
     "output_type": "stream",
     "text": [
      "admixture_0 9.094947017729282e-13\n",
      "admixture_1 9.094947017729282e-13\n",
      "admixture_2 9.094947017729282e-13\n",
      "split 1.8189894035458565e-12\n",
      "twosplits_0 9.094947017729282e-13\n",
      "twosplits_1 9.094947017729282e-13\n",
      "twosplits_2 9.094947017729282e-13\n"
     ]
    }
   ],
   "source": [
    "# The split model gives significantly greater collapsed-population log-likelihood\n",
    "# than all each other models, indicating that the suture zone does not exist.\n",
    "for model in Europe_models:\n",
    "    if model == \"split_asymmig\":\n",
    "        continue\n",
    "\n",
    "    p = scipy.stats.wilcoxon(df[(df.region == \"Europe\") & (df.model == \"split_asymmig\")].collapsed_pop_ll,\n",
    "                             df[(df.region == \"Europe\") & (df.model == model)].collapsed_pop_ll,\n",
    "                             alternative='greater').pvalue\n",
    "    print(model, p)"
   ]
  },
  {
   "cell_type": "code",
   "execution_count": 11,
   "metadata": {},
   "outputs": [
    {
     "data": {
      "text/plain": [
       "np.float64(7.025937520666048e-07)"
      ]
     },
     "execution_count": 11,
     "metadata": {},
     "output_type": "execute_result"
    }
   ],
   "source": [
    "# The two_epoch model gives significantly greater collapsed-population log-likelihood\n",
    "# than the split model in the mainland samples, indicating that non-Caribbean American\n",
    "# samples all fall into one cluster.\n",
    "scipy.stats.wilcoxon(df[(df.region == \"mainland\") & (df.model == \"two_epoch\")].collapsed_pop_ll,\n",
    "                        df[(df.region == \"mainland\") & (df.model == \"split\")].collapsed_pop_ll,\n",
    "                        alternative='greater').pvalue"
   ]
  },
  {
   "cell_type": "code",
   "execution_count": 12,
   "metadata": {},
   "outputs": [
    {
     "data": {
      "text/plain": [
       "np.float64(6.897607818245888e-09)"
      ]
     },
     "execution_count": 12,
     "metadata": {},
     "output_type": "execute_result"
    }
   ],
   "source": [
    "# The two_epoch model gives significantly greater collapsed-population log-likelihood\n",
    "# than the split model in the Americas, indicating that the Caribbean cluster is \n",
    "# not valid.\n",
    "scipy.stats.wilcoxon(df[(df.region == \"Americas\") & (df.model == \"two_epoch\")].collapsed_pop_ll,\n",
    "                        df[(df.region == \"Americas\") & (df.model == \"split\")].collapsed_pop_ll,\n",
    "                        alternative='greater').pvalue"
   ]
  },
  {
   "cell_type": "code",
   "execution_count": 17,
   "metadata": {},
   "outputs": [
    {
     "data": {
      "text/plain": [
       "np.float64(1.4705182536706714e-29)"
      ]
     },
     "execution_count": 17,
     "metadata": {},
     "output_type": "execute_result"
    }
   ],
   "source": [
    "# Model has a significant effect on collapsed-population log-likelihood for Transatlantic\n",
    "# models.\n",
    "Transatlantic_models = df[df.region == \"Transatlantic_expandedAfr\"].model.unique()\n",
    "scipy.stats.kruskal(*[df[(df.region == \"Transatlantic_expandedAfr\") & (df.model == model)].collapsed_pop_ll\n",
    "                      for model in Transatlantic_models]).pvalue"
   ]
  },
  {
   "cell_type": "code",
   "execution_count": 18,
   "metadata": {},
   "outputs": [
    {
     "data": {
      "text/plain": [
       "[('admixture_0', np.float64(-6.326867131449948)),\n",
       " ('admixture_1', np.float64(-6.298916300128928)),\n",
       " ('admixture_2', np.float64(-6.076376404132022)),\n",
       " ('admixture_3', np.float64(-6.035658276768975))]"
      ]
     },
     "execution_count": 18,
     "metadata": {},
     "output_type": "execute_result"
    }
   ],
   "source": [
    "# The admixture_2 model, i.e. Americas as an admixture of Eastern Europe and Zambia,\n",
    "# has the greatest average collapsed-population log-likelihood for the Transatlantic\n",
    "# region.\n",
    "[(model, df[(df.region == \"Transatlantic_expandedAfr\") & (df.model == model)].log_likelihood.mean())\n",
    " for model in Transatlantic_models]"
   ]
  },
  {
   "cell_type": "code",
   "execution_count": 21,
   "metadata": {},
   "outputs": [
    {
     "name": "stdout",
     "output_type": "stream",
     "text": [
      "admixture_0 9.094947017729282e-13\n",
      "admixture_1 9.094947017729282e-13\n",
      "admixture_2 9.094947017729282e-13\n"
     ]
    }
   ],
   "source": [
    "# The admixture_2 model gives significantly greater collapsed-population log-likelihood\n",
    "# than all each other model, indicating that American flies are better described\n",
    "# as an admixture of Zambia and Eastern Europe than as any other combination of\n",
    "# Western or Eastern Europe and Guinea or Zambia.\n",
    "putative_best_model = \"admixture_3\"\n",
    "for model in Transatlantic_models:\n",
    "    if model == putative_best_model:\n",
    "        continue\n",
    "\n",
    "    p = scipy.stats.wilcoxon(df[(df.region == \"Transatlantic_expandedAfr\") & (df.model == putative_best_model)].collapsed_pop_ll,\n",
    "                             df[(df.region == \"Transatlantic_expandedAfr\") & (df.model == model)].collapsed_pop_ll,\n",
    "                             alternative='greater').pvalue\n",
    "    print(model, p)"
   ]
  },
  {
   "cell_type": "code",
   "execution_count": 26,
   "metadata": {},
   "outputs": [
    {
     "name": "stdout",
     "output_type": "stream",
     "text": [
      "95% CIs for parameter estimates for split-asymmig model of Europe:\n",
      "L\t[-4.40834645 -4.40234982]\n",
      "nu_EUW\t[0.45125461 0.82471854]\n",
      "nu_EUE\t[0.27163499 0.50206239]\n",
      "T_split\t[0.81020623 1.03809993]\n",
      "mE_to_W\t[ 62.67444704 114.29616777]\n",
      "mW_to_E\t[0.00100921 0.00186056]\n"
     ]
    }
   ],
   "source": [
    "print(\"95% CIs for parameter estimates for split-asymmig model of Europe:\")\n",
    "print(f\"L\\t{np.array(df[(df.region == 'Europe') & (df.model == 'split_asymmig')]['collapsed_pop_ll'].quantile([0.025, 0.975]))}\")\n",
    "for i, param_name in enumerate(['nu_EUW', 'nu_EUE', 'T_split', 'mE_to_W', 'mW_to_E']):\n",
    "    ci = np.array(df[(df.region == \"Europe\") & (df.model == \"split_asymmig\")]['est' + str(i)].quantile([0.025, 0.975]))\n",
    "    print(f\"{param_name}\\t{ci}\")"
   ]
  },
  {
   "cell_type": "code",
   "execution_count": 29,
   "metadata": {},
   "outputs": [
    {
     "name": "stdout",
     "output_type": "stream",
     "text": [
      "95% CIs for parameter estimates for two_epoch model of mainland Americas:\n",
      "L\t[-2.61207082 -2.60715977]\n",
      "nu\t[1.85794596 2.10597247]\n",
      "T\t[0.02297162 0.02874046]\n"
     ]
    }
   ],
   "source": [
    "print(\"95% CIs for parameter estimates for two_epoch model of mainland Americas:\")\n",
    "print(f\"L\\t{np.array(df[(df.region == 'Americas') & (df.model == 'two_epoch')]['collapsed_pop_ll'].quantile([0.025, 0.975]))}\")\n",
    "for i, param_name in enumerate(['nu', 'T']):\n",
    "    ci = np.array(df[(df.region == \"mainland\") & (df.model == \"two_epoch\")]['est' + str(i)].quantile([0.025, 0.975]))\n",
    "    print(f\"{param_name}\\t{ci}\")"
   ]
  },
  {
   "cell_type": "code",
   "execution_count": 28,
   "metadata": {},
   "outputs": [
    {
     "name": "stdout",
     "output_type": "stream",
     "text": [
      "95% CIs for parameter estimates for two_epoch model of the Americas:\n",
      "L\t[-2.61207082 -2.60715977]\n",
      "nu\t[1.58762755 1.8860231 ]\n",
      "T\t[0.01854634 0.03073693]\n"
     ]
    }
   ],
   "source": [
    "print(\"95% CIs for parameter estimates for two_epoch model of the Americas:\")\n",
    "print(f\"L\\t{np.array(df[(df.region == 'Americas') & (df.model == 'two_epoch')]['collapsed_pop_ll'].quantile([0.025, 0.975]))}\")\n",
    "for i, param_name in enumerate(['nu', 'T']):\n",
    "    ci = np.array(df[(df.region == \"Americas\") & (df.model == \"two_epoch\")]['est' + str(i)].quantile([0.025, 0.975]))\n",
    "    print(f\"{param_name}\\t{ci}\")"
   ]
  },
  {
   "cell_type": "code",
   "execution_count": 28,
   "metadata": {},
   "outputs": [
    {
     "name": "stdout",
     "output_type": "stream",
     "text": [
      "95% CIs for parameter estimates for admixture model of the Americas as admixture of EUW and Zambia+Zimbabwe:\n",
      "L\t[-6.23550877 -5.8667782 ]\n",
      "nu_Afr\t[0.05321871 0.50061038]\n",
      "nu_EUE\t[0.51206821 1.16831047]\n",
      "nu_Am\t[0.97344772 1.97800206]\n",
      "T_split\t[0.01462968 0.47775615]\n",
      "T_admix\t[0.01846828 0.02982267]\n",
      "m2\t[0.23253592 2.78676757]\n",
      "m3\t[1.00221290e-03 3.02915354e+00]\n",
      "p_admix\t[0.00608448 0.10156844]\n"
     ]
    }
   ],
   "source": [
    "# p_admix is the proportion of genetic material from the African population in the\n",
    "# admixture event.\n",
    "print(\"95% CIs for parameter estimates for admixture model of the Americas as admixture of EUW and Zambia+Zimbabwe:\")\n",
    "print(f\"L\\t{np.array(df[(df.region == 'Transatlantic_expandedAfr') & (df.model == 'admixture_3')]['collapsed_pop_ll'].quantile([0.025, 0.975]))}\")\n",
    "for i, param_name in enumerate(['nu_Afr', 'nu_EUE', 'nu_Am', 'T_split', 'T_admix', 'm2', 'm3', 'p_admix']):\n",
    "    ci = np.array(df[(df.region == \"Transatlantic_expandedAfr\") & (df.model == \"admixture_3\")]['est' + str(i)].quantile([0.025, 0.975]))\n",
    "    print(f\"{param_name}\\t{ci}\")"
   ]
  }
 ],
 "metadata": {
  "kernelspec": {
   "display_name": "di_env",
   "language": "python",
   "name": "python3"
  },
  "language_info": {
   "codemirror_mode": {
    "name": "ipython",
    "version": 3
   },
   "file_extension": ".py",
   "mimetype": "text/x-python",
   "name": "python",
   "nbconvert_exporter": "python",
   "pygments_lexer": "ipython3",
   "version": "3.12.4"
  }
 },
 "nbformat": 4,
 "nbformat_minor": 2
}
